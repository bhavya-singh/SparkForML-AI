{
 "cells": [
  {
   "cell_type": "code",
   "execution_count": 1,
   "metadata": {},
   "outputs": [],
   "source": [
    "import findspark\n",
    "findspark.init()\n",
    "\n",
    "import pyspark\n",
    "from pyspark.sql import SparkSession\n",
    "spark = SparkSession.builder.appName('SparkSess').getOrCreate()"
   ]
  },
  {
   "cell_type": "code",
   "execution_count": 2,
   "metadata": {},
   "outputs": [],
   "source": [
    "from pyspark.ml.linalg import Vectors\n",
    "from pyspark.ml.feature import VectorAssembler\n",
    "from pyspark.ml.clustering import KMeans"
   ]
  },
  {
   "cell_type": "code",
   "execution_count": 5,
   "metadata": {},
   "outputs": [],
   "source": [
    "cluster_df = spark.read.csv(\"clustering_dataset.csv\", header=True,\n",
    "                           inferSchema=True)"
   ]
  },
  {
   "cell_type": "code",
   "execution_count": 6,
   "metadata": {},
   "outputs": [
    {
     "data": {
      "text/plain": [
       "DataFrame[col1: int, col2: int, col3: int]"
      ]
     },
     "execution_count": 6,
     "metadata": {},
     "output_type": "execute_result"
    }
   ],
   "source": [
    "cluster_df"
   ]
  },
  {
   "cell_type": "code",
   "execution_count": 7,
   "metadata": {},
   "outputs": [
    {
     "name": "stdout",
     "output_type": "stream",
     "text": [
      "+----+----+----+\n",
      "|col1|col2|col3|\n",
      "+----+----+----+\n",
      "|   7|   4|   1|\n",
      "|   7|   7|   9|\n",
      "|   7|   9|   6|\n",
      "|   1|   6|   5|\n",
      "|   6|   7|   7|\n",
      "|   7|   9|   4|\n",
      "|   7|  10|   6|\n",
      "|   7|   8|   2|\n",
      "|   8|   3|   8|\n",
      "|   4|  10|   5|\n",
      "|   7|   4|   5|\n",
      "|   7|   8|   4|\n",
      "|   2|   5|   1|\n",
      "|   2|   6|   2|\n",
      "|   2|   3|   8|\n",
      "|   3|   9|   1|\n",
      "|   4|   2|   9|\n",
      "|   1|   7|   1|\n",
      "|   6|   2|   3|\n",
      "|   4|   1|   9|\n",
      "+----+----+----+\n",
      "only showing top 20 rows\n",
      "\n"
     ]
    }
   ],
   "source": [
    "cluster_df.show()"
   ]
  },
  {
   "cell_type": "code",
   "execution_count": 8,
   "metadata": {},
   "outputs": [
    {
     "name": "stdout",
     "output_type": "stream",
     "text": [
      "+----+----+----+\n",
      "|col1|col2|col3|\n",
      "+----+----+----+\n",
      "|   7|   4|   1|\n",
      "|   7|   7|   9|\n",
      "|   7|   9|   6|\n",
      "|   1|   6|   5|\n",
      "|   6|   7|   7|\n",
      "|   7|   9|   4|\n",
      "|   7|  10|   6|\n",
      "|   7|   8|   2|\n",
      "|   8|   3|   8|\n",
      "|   4|  10|   5|\n",
      "|   7|   4|   5|\n",
      "|   7|   8|   4|\n",
      "|   2|   5|   1|\n",
      "|   2|   6|   2|\n",
      "|   2|   3|   8|\n",
      "|   3|   9|   1|\n",
      "|   4|   2|   9|\n",
      "|   1|   7|   1|\n",
      "|   6|   2|   3|\n",
      "|   4|   1|   9|\n",
      "|   4|   8|   5|\n",
      "|   6|   6|   7|\n",
      "|   4|   6|   2|\n",
      "|   8|   1|   1|\n",
      "|   7|   5|  10|\n",
      "|  17|  25|  21|\n",
      "|  15|  23|  32|\n",
      "|  42|  25|  45|\n",
      "|  41|  47|  21|\n",
      "|  37|  20|  27|\n",
      "|  40|  18|  26|\n",
      "|  41|  28|  50|\n",
      "|  32|  25|  40|\n",
      "|  24|  29|  35|\n",
      "|  47|  18|  47|\n",
      "|  36|  42|  45|\n",
      "|  49|  29|  15|\n",
      "|  47|  39|  22|\n",
      "|  38|  27|  25|\n",
      "|  45|  23|  40|\n",
      "|  23|  36|  19|\n",
      "|  47|  40|  50|\n",
      "|  37|  30|  40|\n",
      "|  42|  48|  41|\n",
      "|  29|  31|  21|\n",
      "|  36|  39|  48|\n",
      "|  50|  24|  31|\n",
      "|  42|  44|  37|\n",
      "|  37|  39|  46|\n",
      "|  22|  40|  30|\n",
      "|  17|  29|  41|\n",
      "|  85| 100|  69|\n",
      "|  68|  76|  67|\n",
      "|  76|  70|  93|\n",
      "|  62|  66|  91|\n",
      "|  83|  93|  76|\n",
      "|  95|  72|  63|\n",
      "|  75|  94|  95|\n",
      "|  83|  72|  80|\n",
      "|  93|  87|  76|\n",
      "|  86|  93|  63|\n",
      "|  97|  82|  75|\n",
      "|  61|  74|  74|\n",
      "|  84|  90| 100|\n",
      "|  77|  67|  97|\n",
      "|  61|  82|  73|\n",
      "|  81|  60|  69|\n",
      "|  67|  80|  98|\n",
      "|  94|  82|  60|\n",
      "|  69|  73|  74|\n",
      "|  74|  96|  80|\n",
      "|  86|  62|  61|\n",
      "|  88|  68|  95|\n",
      "|  99|  67|  80|\n",
      "|  76|  95|  70|\n",
      "+----+----+----+\n",
      "\n"
     ]
    }
   ],
   "source": [
    "cluster_df.show(75)"
   ]
  },
  {
   "cell_type": "code",
   "execution_count": 9,
   "metadata": {},
   "outputs": [],
   "source": [
    "vectorAssembler = VectorAssembler(inputCols=[\"col1\",\"col2\",\"col3\"], outputCol=\"features\")"
   ]
  },
  {
   "cell_type": "code",
   "execution_count": 11,
   "metadata": {},
   "outputs": [],
   "source": [
    "vcluster_df = vectorAssembler.transform(cluster_df)"
   ]
  },
  {
   "cell_type": "code",
   "execution_count": 12,
   "metadata": {},
   "outputs": [
    {
     "name": "stdout",
     "output_type": "stream",
     "text": [
      "+----+----+----+--------------+\n",
      "|col1|col2|col3|      features|\n",
      "+----+----+----+--------------+\n",
      "|   7|   4|   1| [7.0,4.0,1.0]|\n",
      "|   7|   7|   9| [7.0,7.0,9.0]|\n",
      "|   7|   9|   6| [7.0,9.0,6.0]|\n",
      "|   1|   6|   5| [1.0,6.0,5.0]|\n",
      "|   6|   7|   7| [6.0,7.0,7.0]|\n",
      "|   7|   9|   4| [7.0,9.0,4.0]|\n",
      "|   7|  10|   6|[7.0,10.0,6.0]|\n",
      "|   7|   8|   2| [7.0,8.0,2.0]|\n",
      "|   8|   3|   8| [8.0,3.0,8.0]|\n",
      "|   4|  10|   5|[4.0,10.0,5.0]|\n",
      "|   7|   4|   5| [7.0,4.0,5.0]|\n",
      "|   7|   8|   4| [7.0,8.0,4.0]|\n",
      "|   2|   5|   1| [2.0,5.0,1.0]|\n",
      "|   2|   6|   2| [2.0,6.0,2.0]|\n",
      "|   2|   3|   8| [2.0,3.0,8.0]|\n",
      "|   3|   9|   1| [3.0,9.0,1.0]|\n",
      "|   4|   2|   9| [4.0,2.0,9.0]|\n",
      "|   1|   7|   1| [1.0,7.0,1.0]|\n",
      "|   6|   2|   3| [6.0,2.0,3.0]|\n",
      "|   4|   1|   9| [4.0,1.0,9.0]|\n",
      "+----+----+----+--------------+\n",
      "only showing top 20 rows\n",
      "\n"
     ]
    }
   ],
   "source": [
    "vcluster_df.show()"
   ]
  },
  {
   "cell_type": "code",
   "execution_count": 13,
   "metadata": {},
   "outputs": [
    {
     "name": "stdout",
     "output_type": "stream",
     "text": [
      "+----+----+----+-----------------+\n",
      "|col1|col2|col3|         features|\n",
      "+----+----+----+-----------------+\n",
      "|   7|   4|   1|    [7.0,4.0,1.0]|\n",
      "|   7|   7|   9|    [7.0,7.0,9.0]|\n",
      "|   7|   9|   6|    [7.0,9.0,6.0]|\n",
      "|   1|   6|   5|    [1.0,6.0,5.0]|\n",
      "|   6|   7|   7|    [6.0,7.0,7.0]|\n",
      "|   7|   9|   4|    [7.0,9.0,4.0]|\n",
      "|   7|  10|   6|   [7.0,10.0,6.0]|\n",
      "|   7|   8|   2|    [7.0,8.0,2.0]|\n",
      "|   8|   3|   8|    [8.0,3.0,8.0]|\n",
      "|   4|  10|   5|   [4.0,10.0,5.0]|\n",
      "|   7|   4|   5|    [7.0,4.0,5.0]|\n",
      "|   7|   8|   4|    [7.0,8.0,4.0]|\n",
      "|   2|   5|   1|    [2.0,5.0,1.0]|\n",
      "|   2|   6|   2|    [2.0,6.0,2.0]|\n",
      "|   2|   3|   8|    [2.0,3.0,8.0]|\n",
      "|   3|   9|   1|    [3.0,9.0,1.0]|\n",
      "|   4|   2|   9|    [4.0,2.0,9.0]|\n",
      "|   1|   7|   1|    [1.0,7.0,1.0]|\n",
      "|   6|   2|   3|    [6.0,2.0,3.0]|\n",
      "|   4|   1|   9|    [4.0,1.0,9.0]|\n",
      "|   4|   8|   5|    [4.0,8.0,5.0]|\n",
      "|   6|   6|   7|    [6.0,6.0,7.0]|\n",
      "|   4|   6|   2|    [4.0,6.0,2.0]|\n",
      "|   8|   1|   1|    [8.0,1.0,1.0]|\n",
      "|   7|   5|  10|   [7.0,5.0,10.0]|\n",
      "|  17|  25|  21| [17.0,25.0,21.0]|\n",
      "|  15|  23|  32| [15.0,23.0,32.0]|\n",
      "|  42|  25|  45| [42.0,25.0,45.0]|\n",
      "|  41|  47|  21| [41.0,47.0,21.0]|\n",
      "|  37|  20|  27| [37.0,20.0,27.0]|\n",
      "|  40|  18|  26| [40.0,18.0,26.0]|\n",
      "|  41|  28|  50| [41.0,28.0,50.0]|\n",
      "|  32|  25|  40| [32.0,25.0,40.0]|\n",
      "|  24|  29|  35| [24.0,29.0,35.0]|\n",
      "|  47|  18|  47| [47.0,18.0,47.0]|\n",
      "|  36|  42|  45| [36.0,42.0,45.0]|\n",
      "|  49|  29|  15| [49.0,29.0,15.0]|\n",
      "|  47|  39|  22| [47.0,39.0,22.0]|\n",
      "|  38|  27|  25| [38.0,27.0,25.0]|\n",
      "|  45|  23|  40| [45.0,23.0,40.0]|\n",
      "|  23|  36|  19| [23.0,36.0,19.0]|\n",
      "|  47|  40|  50| [47.0,40.0,50.0]|\n",
      "|  37|  30|  40| [37.0,30.0,40.0]|\n",
      "|  42|  48|  41| [42.0,48.0,41.0]|\n",
      "|  29|  31|  21| [29.0,31.0,21.0]|\n",
      "|  36|  39|  48| [36.0,39.0,48.0]|\n",
      "|  50|  24|  31| [50.0,24.0,31.0]|\n",
      "|  42|  44|  37| [42.0,44.0,37.0]|\n",
      "|  37|  39|  46| [37.0,39.0,46.0]|\n",
      "|  22|  40|  30| [22.0,40.0,30.0]|\n",
      "|  17|  29|  41| [17.0,29.0,41.0]|\n",
      "|  85| 100|  69|[85.0,100.0,69.0]|\n",
      "|  68|  76|  67| [68.0,76.0,67.0]|\n",
      "|  76|  70|  93| [76.0,70.0,93.0]|\n",
      "|  62|  66|  91| [62.0,66.0,91.0]|\n",
      "|  83|  93|  76| [83.0,93.0,76.0]|\n",
      "|  95|  72|  63| [95.0,72.0,63.0]|\n",
      "|  75|  94|  95| [75.0,94.0,95.0]|\n",
      "|  83|  72|  80| [83.0,72.0,80.0]|\n",
      "|  93|  87|  76| [93.0,87.0,76.0]|\n",
      "|  86|  93|  63| [86.0,93.0,63.0]|\n",
      "|  97|  82|  75| [97.0,82.0,75.0]|\n",
      "|  61|  74|  74| [61.0,74.0,74.0]|\n",
      "|  84|  90| 100|[84.0,90.0,100.0]|\n",
      "|  77|  67|  97| [77.0,67.0,97.0]|\n",
      "|  61|  82|  73| [61.0,82.0,73.0]|\n",
      "|  81|  60|  69| [81.0,60.0,69.0]|\n",
      "|  67|  80|  98| [67.0,80.0,98.0]|\n",
      "|  94|  82|  60| [94.0,82.0,60.0]|\n",
      "|  69|  73|  74| [69.0,73.0,74.0]|\n",
      "|  74|  96|  80| [74.0,96.0,80.0]|\n",
      "|  86|  62|  61| [86.0,62.0,61.0]|\n",
      "|  88|  68|  95| [88.0,68.0,95.0]|\n",
      "|  99|  67|  80| [99.0,67.0,80.0]|\n",
      "|  76|  95|  70| [76.0,95.0,70.0]|\n",
      "+----+----+----+-----------------+\n",
      "\n"
     ]
    }
   ],
   "source": [
    "vcluster_df.show(75)"
   ]
  },
  {
   "cell_type": "code",
   "execution_count": 14,
   "metadata": {},
   "outputs": [],
   "source": [
    "#Setting up K-Means Algo"
   ]
  },
  {
   "cell_type": "code",
   "execution_count": 15,
   "metadata": {},
   "outputs": [],
   "source": [
    "kmeans = KMeans().setK(3)"
   ]
  },
  {
   "cell_type": "code",
   "execution_count": 16,
   "metadata": {},
   "outputs": [],
   "source": [
    "#set seed - determines where kmeans algo starts\n",
    "#useful if you're doing testing, to have consistency\n",
    "\n",
    "kmeans = kmeans.setSeed(1)"
   ]
  },
  {
   "cell_type": "code",
   "execution_count": 17,
   "metadata": {},
   "outputs": [],
   "source": [
    "#fit our data\n",
    "\n",
    "kmodel = kmeans.fit(vcluster_df)"
   ]
  },
  {
   "cell_type": "code",
   "execution_count": 18,
   "metadata": {},
   "outputs": [],
   "source": [
    "#find the centers of the clusters\n",
    "\n",
    "centers = kmodel.clusterCenters()"
   ]
  },
  {
   "cell_type": "code",
   "execution_count": 19,
   "metadata": {},
   "outputs": [
    {
     "data": {
      "text/plain": [
       "[array([35.88461538, 31.46153846, 34.42307692]),\n",
       " array([80.        , 79.20833333, 78.29166667]),\n",
       " array([5.12, 5.84, 4.84])]"
      ]
     },
     "execution_count": 19,
     "metadata": {},
     "output_type": "execute_result"
    }
   ],
   "source": [
    "centers"
   ]
  },
  {
   "cell_type": "markdown",
   "metadata": {},
   "source": [
    "### Hierarchical Clustering - Bisecting KMeans\n",
    "##### Useful for huge datasets, faster"
   ]
  },
  {
   "cell_type": "code",
   "execution_count": 20,
   "metadata": {},
   "outputs": [],
   "source": [
    "from pyspark.ml.clustering import BisectingKMeans"
   ]
  },
  {
   "cell_type": "code",
   "execution_count": 21,
   "metadata": {},
   "outputs": [],
   "source": [
    "bkmeans = BisectingKMeans().setK(3)\n",
    "bkmeans = bkmeans.setSeed(1)"
   ]
  },
  {
   "cell_type": "code",
   "execution_count": 22,
   "metadata": {},
   "outputs": [],
   "source": [
    "bkmodel = bkmeans.fit(vcluster_df)"
   ]
  },
  {
   "cell_type": "code",
   "execution_count": 23,
   "metadata": {},
   "outputs": [],
   "source": [
    "bkcenters = bkmodel.clusterCenters()"
   ]
  },
  {
   "cell_type": "code",
   "execution_count": 24,
   "metadata": {},
   "outputs": [
    {
     "data": {
      "text/plain": [
       "[array([5.12, 5.84, 4.84]),\n",
       " array([35.88461538, 31.46153846, 34.42307692]),\n",
       " array([80.        , 79.20833333, 78.29166667])]"
      ]
     },
     "execution_count": 24,
     "metadata": {},
     "output_type": "execute_result"
    }
   ],
   "source": [
    "bkcenters"
   ]
  },
  {
   "cell_type": "code",
   "execution_count": 25,
   "metadata": {},
   "outputs": [
    {
     "data": {
      "text/plain": [
       "[array([35.88461538, 31.46153846, 34.42307692]),\n",
       " array([80.        , 79.20833333, 78.29166667]),\n",
       " array([5.12, 5.84, 4.84])]"
      ]
     },
     "execution_count": 25,
     "metadata": {},
     "output_type": "execute_result"
    }
   ],
   "source": [
    "centers"
   ]
  },
  {
   "cell_type": "code",
   "execution_count": 26,
   "metadata": {},
   "outputs": [],
   "source": [
    "#same in this case, should be close, no guarantee they'll be the same"
   ]
  },
  {
   "cell_type": "code",
   "execution_count": null,
   "metadata": {},
   "outputs": [],
   "source": []
  }
 ],
 "metadata": {
  "kernelspec": {
   "display_name": "Python 3",
   "language": "python",
   "name": "python3"
  },
  "language_info": {
   "codemirror_mode": {
    "name": "ipython",
    "version": 3
   },
   "file_extension": ".py",
   "mimetype": "text/x-python",
   "name": "python",
   "nbconvert_exporter": "python",
   "pygments_lexer": "ipython3",
   "version": "3.7.6"
  }
 },
 "nbformat": 4,
 "nbformat_minor": 4
}
